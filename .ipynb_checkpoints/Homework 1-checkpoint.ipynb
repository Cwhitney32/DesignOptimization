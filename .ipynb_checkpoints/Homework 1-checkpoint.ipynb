{
 "cells": [
  {
   "cell_type": "markdown",
   "metadata": {
    "collapsed": true,
    "pycharm": {
     "name": "#%% md\n"
    }
   },
   "source": [
    "Solve the following problem using [Python SciPy.optimize][]. Please attach your code and\n",
    "results. Specify your initial guesses of the solution. If you change\n",
    "your initial guess, do you find different solutions? (**100 points**)\n",
    "\n",
    "$$\n",
    "\\begin{aligned}\n",
    "&\\text{minimize:} && (x_1-x_2)^2 + (x_2+x_3-2)^2 + (x_4-1)^2+(x_5-1)^2 \\\\\\\\\n",
    "&\\text{subject to:} && x_1 + 3x_2 = 0 \\\\\\\\\n",
    "&&& x_3 + x_4 - 2x_5 = 0 \\\\\\\\\n",
    "&&& x_2 - x_5 = 0 \\\\\\\\\n",
    "&&& -10 \\leq x_i \\leq 10, \\~i=1,\\ldots,5\n",
    "\\end{aligned}$$\n",
    "\n",
    "**Note**:\n",
    "\n",
    "1.  Please learn how to use **break points** to debug. **I will not\n",
    "    address your programming questions if you have not learned how to\n",
    "    debug your code.**\n",
    "\n",
    "2.  I recommend [PyCharm][] as the IDE. If you are new to Python, you can also start with [Google Colab][] without installing anything.\n",
    "    \n",
    "3.  If you are on Windows, the [Anaconda][] version of Python 3 is highly recommended.\n",
    "\n",
    "\n",
    "**Here are the steps to push a homework submission**:\n",
    "\n",
    "1.  Clone the [course repo][]: First click on **Code** to get the\n",
    " Git address (e.g., the HTTPS address). Then use your IDE to clone (download) the repo using this address. \n",
    " [PyCharm tutorial][] on using Git.\n",
    "\n",
    "2.  You will find the homework in the **Homework** folder.\n",
    "\n",
    "3.  For analytical problems (e.g., proofs and calculations), please use [Markdown][] to type up your answers. \n",
    "[Markdown Math][]. For Latex users, you can convert tex to markdown using [Pandoc][]. \n",
    "\n",
    "4. For coding problems, please submit a [Jupyter Notebook][] file with your code and final results. \n",
    "You can also add a URL to your Jupyter or Colab Notebook in README.md if you use online notebooks.\n",
    "\n",
    "5. For each homework, please submit a single notebook file (or link) that combines the markdown solutions, \n",
    "the codes, and the computation results, and name the file according to the homework.  \n",
    "\n",
    "6. **IMPORTANT** Please push (upload) the notebook file every time you work on the \n",
    "homework and add comments when you push, e.g., \"finished problem 1, still debugging problem 2\". This way I \n",
    "know you worked on your own.\n",
    " \n",
    "\n",
    "[Python SciPy.optimize]: https://docs.scipy.org/doc/scipy/reference/tutorial/optimize.html#\n",
    "[PyCharm]: https://www.jetbrains.com/pycharm/promo/?utm_source=bing&utm_medium=cpc&utm_campaign=AMER_en_US-PST%2BMST_PyCharm_Branded&utm_term=pycharm&utm_content=pycharm\n",
    "[Google Colab]: https://colab.research.google.com\n",
    "[Anaconda]: https://anaconda.org/anaconda/python\n",
    "[course repo]: https://github.com/DesignInformaticsLab/DesignOptimization2021Fall\n",
    "[PyCharm tutorial]: https://www.jetbrains.com/help/pycharm/set-up-a-git-repository.html#clone-repo\n",
    "[Pandoc]: https://pandoc.org/try/\n",
    "[Jupyter Notebook]: https://jupyter.org/try\n",
    "[Markdown]: https://guides.github.com/features/mastering-markdown/\n",
    "[Markdown Math]: http://luvxuan.top/posts/Markdown-math/"
   ]
  },
  {
   "cell_type": "markdown",
   "metadata": {},
   "source": [
    "Please find the following solution to the homework 1:\n",
    "\n",
    "The solution was prepared in VScode using both .py .ipynb file extensions.\n",
    "\n",
    "The solution was initially evaulated 4 times using different intial conditions.. These initial conditions were radom guesses only and limited in scope. \n",
    "    The solution show now variation to given initial conditions which could idicate a singular minima.\n",
    "\n",
    "Converting the problem statement to a python compatable linear/array format:\n",
    "\n",
    "Boundary conditions:\n",
    "\n",
    "Limits:\n",
    "\n",
    "\n",
    "Future work:\n",
    "\n",
    "-Validate solution\n",
    "-Intialiate a ramndon generated initial condition array with apprpriate limits and loop n times.   Check for solution variation.\n",
    "\n",
    "Note:\n",
    "-Slight solution variation occurs... why?\n",
    "    machine error..(unlikely)\n",
    "    what method is being used to evaulate the solution. \n",
    "    what is the convergence criteria? (likely) \n",
    "\n",
    "\n",
    "initial guess:\n",
    "    x0: x1: 1,  x2: 2,  x3: 3,  x4: 4,  x5: 5\n",
    "\n",
    "Solution: (exepect variation occurs at different initial conditions)\n",
    "    function evaulates: -7.055555552310394\n",
    "    x inputs: x1: -5.33337568,  x2: 2.11112523,  x3: 1.05559688,  x4: 2.16665357,  x5: 1.11112523"
   ]
  },
  {
   "cell_type": "code",
   "execution_count": 7,
   "metadata": {},
   "outputs": [
    {
     "name": "stdout",
     "output_type": "stream",
     "text": [
      "     fun: -7.055555552310394\n",
      "     jac: array([ 1.        , -1.88880622,  2.33344424,  2.33330721,  0.22225046])\n",
      " message: 'Optimization terminated successfully'\n",
      "    nfev: 30\n",
      "     nit: 5\n",
      "    njev: 5\n",
      "  status: 0\n",
      " success: True\n",
      "       x: array([-5.33337568,  2.11112523,  1.05559688,  2.16665357,  1.11112523])\n"
     ]
    }
   ],
   "source": [
    "import numpy as np\n",
    "from scipy.optimize import minimize\n",
    "from scipy.optimize import Bounds\n",
    "from scipy.optimize import LinearConstraint\n",
    "\n",
    "##bounds=Bounds([-10,10],[-10,10],[-10,10],[-10,10],[-10,10])\n",
    "bounds=Bounds([-10,-10,-10,-10,-10],[10,10,10,10,10])\n",
    "\n",
    "linear_constraint = LinearConstraint([[1,3,0,0,0],[0,0,1,1,-2],[0,1,0,0,-1]],[1,1,1], [1,1,1])\n",
    "\n",
    "def f(x):\n",
    "    return (x[0]-x[1]**2 + (x[1]+x[2]-2)**2 + (x[3]-1)**2+(x[4]-1)**2)\n",
    "\n",
    "x0 = np.array([1, 2, 3, 4, 5])\n",
    "\n",
    "res = minimize(f, x0,constraints=linear_constraint, bounds=bounds)\n",
    "\n",
    "print(res)"
   ]
  },
  {
   "cell_type": "code",
   "execution_count": 8,
   "metadata": {},
   "outputs": [
    {
     "name": "stdout",
     "output_type": "stream",
     "text": [
      "     fun: -7.055555488801998\n",
      "     jac: array([ 1.        , -1.88925993,  2.33282638,  2.33343279,  0.22208637])\n",
      " message: 'Optimization terminated successfully'\n",
      "    nfev: 30\n",
      "     nit: 5\n",
      "    njev: 5\n",
      "  status: 0\n",
      " success: True\n",
      "       x: array([-5.33312954,  2.11104318,  1.05536995,  2.16671641,  1.11104318])\n"
     ]
    }
   ],
   "source": [
    "import numpy as np\n",
    "from scipy.optimize import minimize\n",
    "from scipy.optimize import Bounds\n",
    "from scipy.optimize import LinearConstraint\n",
    "\n",
    "##bounds=Bounds([-10,10],[-10,10],[-10,10],[-10,10],[-10,10])\n",
    "bounds=Bounds([-10,-10,-10,-10,-10],[10,10,10,10,10])\n",
    "\n",
    "linear_constraint = LinearConstraint([[1,3,0,0,0],[0,0,1,1,-2],[0,1,0,0,-1]],[1,1,1], [1,1,1])\n",
    "\n",
    "def f(x):\n",
    "    return (x[0]-x[1]**2 + (x[1]+x[2]-2)**2 + (x[3]-1)**2+(x[4]-1)**2)\n",
    "\n",
    "x0 = np.array([5,5,6,8,4])\n",
    "\n",
    "res = minimize(f, x0,constraints=linear_constraint, bounds=bounds)\n",
    "\n",
    "print(res)"
   ]
  },
  {
   "cell_type": "code",
   "execution_count": 1,
   "metadata": {},
   "outputs": [
    {
     "name": "stdout",
     "output_type": "stream",
     "text": [
      "     fun: -7.055555450503056\n",
      "     jac: array([ 1.        , -1.88937092,  2.33277559,  2.3336637 ,  0.22214645])\n",
      " message: 'Optimization terminated successfully'\n",
      "    nfev: 37\n",
      "     nit: 6\n",
      "    njev: 6\n",
      "  status: 0\n",
      " success: True\n",
      "       x: array([-5.33321961,  2.1110732 ,  1.05531458,  2.16683183,  1.1110732 ])\n"
     ]
    }
   ],
   "source": [
    "import numpy as np\n",
    "from scipy.optimize import minimize\n",
    "from scipy.optimize import Bounds\n",
    "from scipy.optimize import LinearConstraint\n",
    "\n",
    "##bounds=Bounds([-10,10],[-10,10],[-10,10],[-10,10],[-10,10])\n",
    "bounds=Bounds([-10,-10,-10,-10,-10],[10,10,10,10,10])\n",
    "\n",
    "linear_constraint = LinearConstraint([[1,3,0,0,0],[0,0,1,1,-2],[0,1,0,0,-1]],[1,1,1], [1,1,1])\n",
    "\n",
    "def f(x):\n",
    "    return (x[0]-x[1]**2 + (x[1]+x[2]-2)**2 + (x[3]-1)**2+(x[4]-1)**2)\n",
    "\n",
    "x0 = np.array([-4,-2,-3,5,-5])\n",
    "\n",
    "res = minimize(f, x0,constraints=linear_constraint, bounds=bounds)\n",
    "\n",
    "print(res)"
   ]
  },
  {
   "cell_type": "code",
   "execution_count": 3,
   "metadata": {},
   "outputs": [
    {
     "name": "stdout",
     "output_type": "stream",
     "text": [
      "     fun: -7.05555555488881\n",
      "     jac: array([ 1.        , -1.88885057,  2.33338058,  2.33331233,  0.22223097])\n",
      " message: 'Optimization terminated successfully'\n",
      "    nfev: 30\n",
      "     nit: 5\n",
      "    njev: 5\n",
      "  status: 0\n",
      " success: True\n",
      "       x: array([-5.33334644,  2.11111548,  1.05557478,  2.16665618,  1.11111548])\n"
     ]
    }
   ],
   "source": [
    "import numpy as np\n",
    "from scipy.optimize import minimize\n",
    "from scipy.optimize import Bounds\n",
    "from scipy.optimize import LinearConstraint\n",
    "\n",
    "##bounds=Bounds([-10,10],[-10,10],[-10,10],[-10,10],[-10,10])\n",
    "bounds=Bounds([-10,-10,-10,-10,-10],[10,10,10,10,10])\n",
    "\n",
    "linear_constraint = LinearConstraint([[1,3,0,0,0],[0,0,1,1,-2],[0,1,0,0,-1]],[1,1,1], [1,1,1])\n",
    "\n",
    "def f(x):\n",
    "    return (x[0]-x[1]**2 + (x[1]+x[2]-2)**2 + (x[3]-1)**2+(x[4]-1)**2)\n",
    "\n",
    "x0 = np.array([-400,222,-33,5777,-52])\n",
    "\n",
    "res = minimize(f, x0,constraints=linear_constraint, bounds=bounds)\n",
    "\n",
    "print(res)"
   ]
  },
  {
   "cell_type": "code",
   "execution_count": null,
   "metadata": {},
   "outputs": [],
   "source": []
  }
 ],
 "metadata": {
  "interpreter": {
   "hash": "648d7d48fcae17006cede8a07b6574169a1e230de14379267f6ccaecb2e08bc1"
  },
  "kernelspec": {
   "display_name": "Python 3",
   "language": "python",
   "name": "python3"
  },
  "language_info": {
   "codemirror_mode": {
    "name": "ipython",
    "version": 3
   },
   "file_extension": ".py",
   "mimetype": "text/x-python",
   "name": "python",
   "nbconvert_exporter": "python",
   "pygments_lexer": "ipython3",
   "version": "3.8.8"
  },
  "pycharm": {
   "stem_cell": {
    "cell_type": "raw",
    "metadata": {
     "collapsed": false
    },
    "source": []
   }
  }
 },
 "nbformat": 4,
 "nbformat_minor": 1
}
