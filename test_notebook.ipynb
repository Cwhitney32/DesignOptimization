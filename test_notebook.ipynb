{
 "cells": [
  {
   "cell_type": "code",
   "execution_count": 7,
   "metadata": {},
   "outputs": [],
   "source": [
    "import numpy as np\n",
    "import matplotlib.pyplot as plt\n",
    "from line_search_grg import*\n",
    "from sk_solve import*\n",
    "\n",
    "\n",
    "#state variables x1 x2\n",
    "sk = np.array([1,2])\n",
    "\n",
    "#decision variables x3\n",
    "dk = np.array([3])\n",
    "\n",
    "#define x argument\n",
    "x0=np.concatenate([sk,dk])\n",
    "\n",
    "#def f(x):\n",
    "    #return x[0]**2+x[1]**2+x[2]**2\n",
    "\n"
   ]
  }
 ],
 "metadata": {
  "interpreter": {
   "hash": "648d7d48fcae17006cede8a07b6574169a1e230de14379267f6ccaecb2e08bc1"
  },
  "kernelspec": {
   "display_name": "Python 3.8.8 64-bit ('base': conda)",
   "name": "python3"
  },
  "language_info": {
   "codemirror_mode": {
    "name": "ipython",
    "version": 3
   },
   "file_extension": ".py",
   "mimetype": "text/x-python",
   "name": "python",
   "nbconvert_exporter": "python",
   "pygments_lexer": "ipython3",
   "version": "3.8.8"
  },
  "orig_nbformat": 4
 },
 "nbformat": 4,
 "nbformat_minor": 2
}
