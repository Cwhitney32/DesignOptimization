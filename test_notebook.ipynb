{
 "cells": [
  {
   "cell_type": "code",
   "execution_count": 1,
   "metadata": {},
   "outputs": [
    {
     "ename": "TypeError",
     "evalue": "can't multiply sequence by non-int of type 'numpy.float64'",
     "output_type": "error",
     "traceback": [
      "\u001b[1;31m---------------------------------------------------------------------------\u001b[0m",
      "\u001b[1;31mTypeError\u001b[0m                                 Traceback (most recent call last)",
      "\u001b[1;32m<ipython-input-1-abbe5c885e05>\u001b[0m in \u001b[0;36m<module>\u001b[1;34m\u001b[0m\n\u001b[0;32m     41\u001b[0m \u001b[0mc\u001b[0m\u001b[1;33m=\u001b[0m\u001b[0mphpd\u001b[0m\u001b[1;33m(\u001b[0m\u001b[0mnp\u001b[0m\u001b[1;33m.\u001b[0m\u001b[0mconcatenate\u001b[0m\u001b[1;33m(\u001b[0m\u001b[1;33m[\u001b[0m\u001b[0msk\u001b[0m\u001b[1;33m,\u001b[0m\u001b[0mdk\u001b[0m\u001b[1;33m]\u001b[0m\u001b[1;33m)\u001b[0m\u001b[1;33m)\u001b[0m\u001b[1;33m\u001b[0m\u001b[1;33m\u001b[0m\u001b[0m\n\u001b[0;32m     42\u001b[0m \u001b[0md\u001b[0m\u001b[1;33m=\u001b[0m\u001b[0mnp\u001b[0m\u001b[1;33m.\u001b[0m\u001b[0mtranspose\u001b[0m\u001b[1;33m(\u001b[0m\u001b[0mdfdd\u001b[0m\u001b[1;33m(\u001b[0m\u001b[0mnp\u001b[0m\u001b[1;33m.\u001b[0m\u001b[0mconcatenate\u001b[0m\u001b[1;33m(\u001b[0m\u001b[1;33m[\u001b[0m\u001b[0msk\u001b[0m\u001b[1;33m,\u001b[0m\u001b[0mdk\u001b[0m\u001b[1;33m]\u001b[0m\u001b[1;33m)\u001b[0m\u001b[1;33m)\u001b[0m\u001b[1;33m)\u001b[0m\u001b[1;33m\u001b[0m\u001b[1;33m\u001b[0m\u001b[0m\n\u001b[1;32m---> 43\u001b[1;33m \u001b[0me\u001b[0m\u001b[1;33m=\u001b[0m\u001b[0mnp\u001b[0m\u001b[1;33m.\u001b[0m\u001b[0mtranspose\u001b[0m\u001b[1;33m(\u001b[0m\u001b[0mnp\u001b[0m\u001b[1;33m.\u001b[0m\u001b[0mmatmul\u001b[0m\u001b[1;33m(\u001b[0m\u001b[1;33m(\u001b[0m\u001b[0mb\u001b[0m\u001b[1;33m,\u001b[0m\u001b[0mc\u001b[0m\u001b[1;33m)\u001b[0m\u001b[1;33m*\u001b[0m\u001b[0mnp\u001b[0m\u001b[1;33m.\u001b[0m\u001b[0mtranspose\u001b[0m\u001b[1;33m(\u001b[0m\u001b[0md\u001b[0m\u001b[1;33m)\u001b[0m\u001b[1;33m)\u001b[0m\u001b[1;33m)\u001b[0m\u001b[1;33m\u001b[0m\u001b[1;33m\u001b[0m\u001b[0m\n\u001b[0m\u001b[0;32m     44\u001b[0m \u001b[1;31m#e=np.transpose(np.matmul(b,c))\u001b[0m\u001b[1;33m\u001b[0m\u001b[1;33m\u001b[0m\u001b[1;33m\u001b[0m\u001b[0m\n",
      "\u001b[1;31mTypeError\u001b[0m: can't multiply sequence by non-int of type 'numpy.float64'"
     ]
    }
   ],
   "source": [
    "import numpy as np\n",
    "import matplotlib.pyplot as plt\n",
    "from line_search_grg import*\n",
    "from sk_solve import*\n",
    "\n",
    "alpha=1\n",
    "\n",
    "def f(x):\n",
    "    return x[0]**2+x[1]**2+x[2]**2\n",
    "\n",
    "def h(x):\n",
    "    return np.array([x[0]**2/4+x[1]**2/5+x[2]**2/25-1, x[0]+x[1]-x[2]])\n",
    "\n",
    "def pfpd(x):\n",
    "    return 2*x[2]\n",
    "\n",
    "def pfps(x):    \n",
    "    return np.array([2*x[0], 2*x[1]])\n",
    "\n",
    "def phps(x):\n",
    "    return np.array([[(1/2)*x[0], 1],[(2/5)*x[1], 1]])\n",
    "\n",
    "def phpd(x):\n",
    "    return np.array([(2/25)*x[2], 1])\n",
    "\n",
    "def dfdd(x):\n",
    "    return pfpd(x0)-np.matmul(np.matmul(pfps(x0),np.linalg.inv(phps(x0))),phpd(x0))\n",
    "\n",
    "#state variables x1 x2\n",
    "sk = np.array([1,2])\n",
    "\n",
    "#decision variables x3\n",
    "dk = np.array([3])\n",
    "\n",
    "#define x argument\n",
    "x0=np.concatenate([sk,dk])\n",
    "\n",
    "\n",
    "a=sk + alpha\n",
    "b=np.linalg.inv(phps(np.concatenate([sk,dk])))\n",
    "c=phpd(np.concatenate([sk,dk]))\n",
    "d=np.transpose(dfdd(np.concatenate([sk,dk])))\n",
    "e=np.transpose(np.matmul((b,c)*np.transpose(d)))\n",
    "#e=np.transpose(np.matmul(b,c))\n"
   ]
  }
 ],
 "metadata": {
  "interpreter": {
   "hash": "648d7d48fcae17006cede8a07b6574169a1e230de14379267f6ccaecb2e08bc1"
  },
  "kernelspec": {
   "display_name": "Python 3.8.8 64-bit ('base': conda)",
   "name": "python3"
  },
  "language_info": {
   "codemirror_mode": {
    "name": "ipython",
    "version": 3
   },
   "file_extension": ".py",
   "mimetype": "text/x-python",
   "name": "python",
   "nbconvert_exporter": "python",
   "pygments_lexer": "ipython3",
   "version": "3.8.8"
  },
  "orig_nbformat": 4
 },
 "nbformat": 4,
 "nbformat_minor": 2
}
