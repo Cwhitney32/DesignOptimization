{
 "cells": [
  {
   "cell_type": "code",
   "execution_count": 15,
   "metadata": {},
   "outputs": [
    {
     "ename": "NameError",
     "evalue": "name 'line_search_grg' is not defined",
     "output_type": "error",
     "traceback": [
      "\u001b[1;31m---------------------------------------------------------------------------\u001b[0m",
      "\u001b[1;31mNameError\u001b[0m                                 Traceback (most recent call last)",
      "\u001b[1;32m<ipython-input-15-239e904775fd>\u001b[0m in \u001b[0;36m<module>\u001b[1;34m\u001b[0m\n\u001b[0;32m     41\u001b[0m \u001b[1;32mwhile\u001b[0m \u001b[0mconv\u001b[0m \u001b[1;33m>=\u001b[0m \u001b[0me\u001b[0m\u001b[1;33m:\u001b[0m\u001b[1;33m\u001b[0m\u001b[1;33m\u001b[0m\u001b[0m\n\u001b[0;32m     42\u001b[0m \u001b[1;33m\u001b[0m\u001b[0m\n\u001b[1;32m---> 43\u001b[1;33m     \u001b[0malpha\u001b[0m\u001b[1;33m=\u001b[0m\u001b[0mline_search_grg\u001b[0m\u001b[1;33m(\u001b[0m\u001b[0mx\u001b[0m\u001b[1;33m,\u001b[0m\u001b[0mfunc\u001b[0m\u001b[1;33m,\u001b[0m\u001b[0mgradient\u001b[0m\u001b[1;33m,\u001b[0m\u001b[0malpha\u001b[0m\u001b[1;33m,\u001b[0m\u001b[1;36m.5\u001b[0m\u001b[1;33m,\u001b[0m\u001b[1;36m.5\u001b[0m\u001b[1;33m,\u001b[0m\u001b[0md\u001b[0m\u001b[1;33m)\u001b[0m\u001b[1;33m\u001b[0m\u001b[1;33m\u001b[0m\u001b[0m\n\u001b[0m\u001b[0;32m     44\u001b[0m \u001b[1;33m\u001b[0m\u001b[0m\n\u001b[0;32m     45\u001b[0m     \u001b[0mx\u001b[0m\u001b[1;33m=\u001b[0m\u001b[0mx\u001b[0m\u001b[1;33m-\u001b[0m\u001b[0malpha\u001b[0m\u001b[1;33m*\u001b[0m\u001b[0mgradient\u001b[0m\u001b[1;33m(\u001b[0m\u001b[0mx\u001b[0m\u001b[1;33m)\u001b[0m\u001b[1;33m\u001b[0m\u001b[1;33m\u001b[0m\u001b[0m\n",
      "\u001b[1;31mNameError\u001b[0m: name 'line_search_grg' is not defined"
     ]
    }
   ],
   "source": [
    "import numpy as np\n",
    "import matplotlib.pyplot as plt\n",
    "from line_search_grg import *\n",
    "\n",
    "alpha=1\n",
    "conv=1\n",
    "error=1\n",
    "sol=[]\n",
    "err=[]\n",
    "itt=[]\n",
    "\n",
    "\n",
    "def f(x):\n",
    "    return x[0]**2+x[1]**2+x[2]**2\n",
    "\n",
    "def h(x):\n",
    "    return np.array([x[0]**2/4+x[1]**2/5+x[2]**2/25-1, x[0]+x[1]-x[2]])\n",
    "\n",
    "def pfpd(x):\n",
    "    return 2*x[2]\n",
    "\n",
    "def pfps(x):    \n",
    "    return np.array([2*x[0], 2*x[1]])\n",
    "\n",
    "def phps(x):\n",
    "    return np.array([[(1/2)*x[0], 1],[(2/5)*x[1], 1]])\n",
    "\n",
    "def phpd(x):\n",
    "    return np.array([(2/25)*x[2], 1])\n",
    "\n",
    "def dfdd_eqn(x):\n",
    "    return pfpd(x0)-np.matmul(np.matmul(pfps(x0),np.linalg.inv(phps(x0))),phpd(x0))\n",
    "\n",
    "k=0\n",
    "\n",
    "e=10e-3\n",
    "x0=np.array([1,1,1])\n",
    "\n",
    "dfdd=dfdd_eqn(x0)\n",
    "\n",
    "while conv >= e:\n",
    "\n",
    "    alpha=line_search_grg(x,func,gradient,alpha,.5,.5,d)\n",
    "    \n",
    "    x=x-alpha*gradient(x)\n",
    "    \n",
    "    ans=func(x)\n",
    "\n",
    "    diff=abs(func(x)-func(xstar))\n",
    "\n",
    "    sol.append(float(diff))\n",
    "\n",
    "    conv=np.linalg.norm(gradient(x))\n",
    "    \n",
    "error=abs(func(sol)-func(xstar))\n",
    "x=np.array([-2*x[0]-3*x[1]+1,x[0],x[1]])\n"
   ]
  }
 ],
 "metadata": {
  "interpreter": {
   "hash": "648d7d48fcae17006cede8a07b6574169a1e230de14379267f6ccaecb2e08bc1"
  },
  "kernelspec": {
   "display_name": "Python 3.8.8 64-bit ('base': conda)",
   "name": "python3"
  },
  "language_info": {
   "codemirror_mode": {
    "name": "ipython",
    "version": 3
   },
   "file_extension": ".py",
   "mimetype": "text/x-python",
   "name": "python",
   "nbconvert_exporter": "python",
   "pygments_lexer": "ipython3",
   "version": "3.8.8"
  },
  "orig_nbformat": 4
 },
 "nbformat": 4,
 "nbformat_minor": 2
}
