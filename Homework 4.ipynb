{
 "cells": [
  {
   "cell_type": "markdown",
   "metadata": {},
   "source": [
    "Sketch graphically the problem \n",
    "\n",
    "$$\n",
    "\\begin{aligned}\n",
    "\\min_{x_1,x_2} & \\quad f({\\bf x})=(x_1+1)^2+(x_2-2)^2\\\\\n",
    "{\\text{subject to }} & \\quad g_1 = x_1-2\\leq 0,{\\quad} g_3 = -x_1\\leq 0,\\\\\n",
    "& \\quad g_2 = x_2-1\\leq 0, {\\quad} g_4 = -x_2\\leq 0.\n",
    "\\end{aligned}\n",
    "$$\n",
    "\n",
    "Find the optimum graphically. Determine directions of feasible descent at the corner points of the feasible domain. Show the gradient directions of $f$ and $g_i$s at these points. Verify graphical results analytically using the KKT conditions.\n",
    "\n",
    "![Q1a](h4scans/Q1a.jpg)\n",
    "![Q1b](h4scans/Q1b.jpg)"
   ]
  },
  {
   "cell_type": "markdown",
   "metadata": {},
   "source": [
    "### Problem 2 (10 Points)\n",
    "\n",
    "Graph the problem \n",
    "\n",
    "$$\n",
    "\\begin{aligned}\n",
    "\\min_{x_1,x_2} & \\quad  f=-x_1\\\\\n",
    "{\\text{subject to }} & \\quad g_1=x_2-(1-x_1)^3\\leq 0{\\quad} {\\rm and}{\\quad} x_2\\geq 0.\n",
    "\\end{aligned}\n",
    "$$ \n",
    "\n",
    "Find the solution graphically. Then apply the optimality conditions. Can you find a solution based on the optimality conditions? Why? (From Kuhn and Tucker, 1951.)\n",
    "\n",
    "![Q2a](h4scans/Q2a.jpg)\n",
    "![Q2b](h4scans/Q2b.jpg)"
   ]
  },
  {
   "cell_type": "markdown",
   "metadata": {},
   "source": [
    "### Problem 3 (30 Points)\n",
    "\n",
    "Find a local solution to the problem \n",
    "\n",
    "$$\n",
    "\\begin{aligned}\n",
    "\\max_{x_1,x_2,x_3} & \\quad  f=x_1x_2+x_2x_3+x_1x_3\\\\\n",
    "{\\text{subject to }} & \\quad h=x_1+x_2+x_3-3=0.\n",
    "\\end{aligned}\n",
    "$$ \n",
    "\n",
    "Use two methods: reduced gradient and Lagrange multipliers.\n",
    "\n",
    "![Q3a](h4scans/Q3a.jpg)\n",
    "![Q3b](h4scans/Q3b.jpg)"
   ]
  },
  {
   "cell_type": "markdown",
   "metadata": {},
   "source": [
    "### Problem 4 (20 Points)\n",
    "\n",
    "Use reduced gradient to\tfind the value(s) of the parameter $b$ for which the point $x_1=1$, $x_2=2$ is the solution to the problem \n",
    "\n",
    "$$\n",
    "\\begin{aligned}\n",
    "\\max_{x_1,x_2} & \\quad  f=2x_{1} + bx_2\\\\\n",
    "{\\text{subject to }} & \\quad g_1 = x_{1}^{2}+ x_{2}^{2}-5\\leq 0\\\\\n",
    "& \\quad g_2= x_1- x_2-2\\leq 0.\n",
    "\\end{aligned}\n",
    "$$ \n",
    "\n",
    "![Q4](h4scans/Q4.jpg)"
   ]
  },
  {
   "cell_type": "markdown",
   "metadata": {},
   "source": [
    "### Problem 5 (30 Points)\n",
    "\n",
    "Find the solution for \n",
    "\n",
    "$$\n",
    "\\begin{aligned}\n",
    "\\min_{x_1,x_2,x_3} & \\quad  f=x_{1}^{2}+x_{2}^{2}+x_{3}^{2}\\\\\n",
    "{\\text{subject to }} & \\quad h_1 = x_{1}^{2}/4+x_{2}^{2}/5+x_{3}^{2}/25-1=0\\\\\n",
    "& \\quad h_2 = x_1+x_2-x_3= 0,\n",
    "\\end{aligned}\n",
    "$$ \n",
    "\n",
    "by implementing the generalized reduced gradient algorithm.\n",
    "![Q5](h4scans/Q5.jpg)"
   ]
  },
  {
   "cell_type": "code",
   "execution_count": 13,
   "metadata": {},
   "outputs": [
    {
     "name": "stdout",
     "output_type": "stream",
     "text": [
      "[-1.57571257  1.37414995 -0.20156261]\n"
     ]
    },
    {
     "data": {
      "image/png": "[encoded data removed]",
      "text/plain": [
       "<Figure size 432x288 with 1 Axes>"
      ]
     },
     "metadata": {
      "needs_background": "light"
     },
     "output_type": "display_data"
    }
   ],
   "source": [
    "import numpy as np\n",
    "import math as m\n",
    "import matplotlib.pyplot as plt\n",
    "from line_search_grg import*\n",
    "from sk_solve import*\n",
    "\n",
    "\n",
    "sol=[]\n",
    "err=[]\n",
    "itt=0\n",
    "conv=1\n",
    "\n",
    "def f(x):\n",
    "    return x[0]**2+x[1]**2+x[2]**2\n",
    "\n",
    "def h(x):\n",
    "    return np.array( [x[0]**2 /4+x[1]**2 /5+x[2]**2 /25-1, x[0] + x[1] - x[2]])\n",
    "\n",
    "def pfpd(x):\n",
    "    return 2*x[2]\n",
    "\n",
    "def pfps(x):    \n",
    "    return np.array([2*x[0], 2*x[1]])\n",
    "\n",
    "def phps(x):\n",
    "    return np.array([[(1/2)*x[0], (2/5)*x[1]],[1, 1]])\n",
    "\n",
    "def phpd(x):\n",
    "    return np.array([(2/25)*x[2], -1])\n",
    "\n",
    "def dfdd_eqn(x):\n",
    "    return pfpd(x)-np.matmul(np.matmul(pfps(x),np.linalg.inv(phps(x))),phpd(x))\n",
    "\n",
    "k=0\n",
    "e=10e-3\n",
    "\n",
    "#state variables x1 x2\n",
    "sk = np.array([-2*m.sqrt(15/17),m.sqrt(5/51)])\n",
    "\n",
    "#decision variables x3\n",
    "dk = np.array([-5*m.sqrt(5/51)])\n",
    "\n",
    "#define x argument\n",
    "x0=np.concatenate([sk,dk])\n",
    "\n",
    "check=h(np.concatenate([sk,dk]))\n",
    "\n",
    "dfdd=dfdd_eqn(x0)\n",
    "\n",
    "while conv >= e:\n",
    "\n",
    "    ak=line_search_grg(f,dfdd_eqn,sk,dk,phps,phpd)\n",
    "    #ak=.2\n",
    "    dk=dk-ak*dfdd_eqn(np.concatenate([sk,dk]))\n",
    "    \n",
    "    sk= sk + ak * np.transpose(np.matmul(np.linalg.inv(phps(np.concatenate([sk,dk]))),phpd(np.concatenate([sk,dk])))*np.transpose(dfdd_eqn(np.concatenate([sk,dk]))))\n",
    "\n",
    "    sk=sk_solve(h,dk,sk,e,phps)\n",
    "\n",
    "    conv=np.linalg.norm(dfdd_eqn(np.concatenate([sk,dk])))\n",
    "\n",
    "    sol.append(conv)\n",
    "    \n",
    "print(np.concatenate([sk,dk]))\n",
    "\n",
    "plt.plot(sol)\n",
    "plt.title(\"Generalized Reduced Gradient W/ Line Search (semi-log scaling)\")\n",
    "plt.xlabel(\"Iteration\")\n",
    "plt.ylabel(\"Convergence\")\n",
    "\n",
    "plt.yscale(\"log\")"
   ]
  }
 ],
 "metadata": {
  "interpreter": {
   "hash": "648d7d48fcae17006cede8a07b6574169a1e230de14379267f6ccaecb2e08bc1"
  },
  "kernelspec": {
   "display_name": "Python 3.8.8 64-bit ('base': conda)",
   "name": "python3"
  },
  "language_info": {
   "codemirror_mode": {
    "name": "ipython",
    "version": 3
   },
   "file_extension": ".py",
   "mimetype": "text/x-python",
   "name": "python",
   "nbconvert_exporter": "python",
   "pygments_lexer": "ipython3",
   "version": "3.8.8"
  },
  "orig_nbformat": 4
 },
 "nbformat": 4,
 "nbformat_minor": 2
}
