{
 "cells": [
  {
   "cell_type": "markdown",
   "source": [
    "# Theory/Computation Problems\r\n",
    "\r\n",
    "### Problem 1 (20 points) \r\n",
    "Show that the stationary point (zero gradient) of the function\r\n",
    "$$\r\n",
    "\\begin{aligned}\r\n",
    "    f=2x_{1}^{2} - 4x_1 x_2+ 1.5x^{2}_{2}+ x_2\r\n",
    "\\end{aligned}\r\n",
    "$$\r\n",
    "is a saddle (with indefinite Hessian). Find the directions of downslopes away from the saddle. Hint: Use Taylor's expansion at the saddle point. Find directions that reduce $f$.\r\n",
    "\r\n",
    "### Problem 2 (50 points) \r\n",
    "\r\n",
    "* (10 points) Find the point in the plane $x_1+2x_2+3x_3=1$ in $\\mathbb{R}^3$ that is nearest to the point $(-1,0,1)^T$. Is this a convex problem? Hint: Convert the problem into an unconstrained problem using $x_1+2x_2+3x_3=1$.\r\n",
    "\r\n",
    "* (40 points) Implement the gradient descent and Newton's algorithm for solving the problem. Attach your codes along with a short summary including (1) the initial points tested, (2) corresponding solutions, (3) a log-linear convergence plot.\r\n",
    "\r\n",
    "### Problem 3 (10 points) \r\n",
    "Let $f(x)$ and $g(x)$ be two convex functions defined on the convex set $\\mathcal{X}$. \r\n",
    "* (5 points) Prove that $af(x)+bg(x)$ is convex for $a>0$ and $b>0$. \r\n",
    "* (5 points) In what conditions will $f(g(x))$ be convex?\r\n",
    "\r\n",
    "### Problem 4 (bonus 10 points)\r\n",
    "Show that $f({\\bf x}_1) \\geq f(\\textbf{x}_0) + \r\n",
    "    \\textbf{g}_{\\textbf{x}_0}^T(\\textbf{x}_1-\\textbf{x}_0)$ for a convex function $f(\\textbf{x}): \\mathcal{X} \\rightarrow \\mathbb{R}$ and for $\\textbf{x}_0$, $\\textbf{x}_1 \\in \\mathcal{X}$. "
   ],
   "metadata": {}
  },
  {
   "cell_type": "markdown",
   "source": [
    "# Design Problems\r\n",
    "\r\n",
    "### Problem 5 (20 points) \r\n",
    "Consider an illumination problem: There are $n$ lamps and $m$ mirrors fixed to the ground. The target reflection intensity level is $I_t$ . The actual reflection intensity level on the $k_th$ mirror can be computed as $\\textbf{a}_k^T \\textbf{p}$, where $\\textbf{a}_k$ is given by the distances between all lamps to the mirror, and $\\textbf{p}:=[p_1,...,p_n]^T$ are the power output of the lamps. The objective is to keep the actual intensity levels as close to the target as possible by tuning the power output $\\textbf{p}$.\r\n",
    "\r\n",
    "* (5 points) Formulate this problem as an optimization problem. \r\n",
    "* (5 points) Is your problem convex?\r\n",
    "* (5 points) If we require the overall power output of any of the $n$ lamps to be less than $p^*$, will the problem have a unique solution?\r\n",
    "* (5 points) If we require no more than half of the lamps to be switched on, will the problem have a unique solution?"
   ],
   "metadata": {}
  },
  {
   "cell_type": "markdown",
   "source": [
    "Problem 1: System of equations solution = stationary point "
   ],
   "metadata": {}
  },
  {
   "cell_type": "code",
   "execution_count": 3,
   "source": [
    "import numpy as np\r\n",
    "import matplotlib\r\n",
    "\r\n",
    "a=np.array([[4,-4],[-4,3]])\r\n",
    "b=np.array([[0],[-1]])\r\n",
    "\r\n",
    "x=np.matmul(np.linalg.inv(a),b)\r\n",
    "\r\n",
    "print(x)\r\n",
    "\r\n",
    "np.allclose(np.dot(a, x), b)"
   ],
   "outputs": [
    {
     "output_type": "stream",
     "name": "stdout",
     "text": [
      "[[1.]\n",
      " [1.]]\n"
     ]
    },
    {
     "output_type": "execute_result",
     "data": {
      "text/plain": [
       "True"
      ]
     },
     "metadata": {},
     "execution_count": 3
    }
   ],
   "metadata": {}
  },
  {
   "cell_type": "code",
   "execution_count": 4,
   "source": [
    "import numpy as np\r\n",
    "\r\n",
    "a=np.array([[10,12],[12,20]])\r\n",
    "b=np.array([[8],[14]])\r\n",
    "\r\n",
    "x=np.matmul(np.linalg.inv(a),b)\r\n",
    "\r\n",
    "print(x)\r\n",
    "\r\n",
    "np.allclose(np.dot(a, x), b)"
   ],
   "outputs": [
    {
     "output_type": "stream",
     "name": "stdout",
     "text": [
      "[[-0.14285714]\n",
      " [ 0.78571429]]\n"
     ]
    },
    {
     "output_type": "execute_result",
     "data": {
      "text/plain": [
       "True"
      ]
     },
     "metadata": {},
     "execution_count": 4
    }
   ],
   "metadata": {}
  },
  {
   "cell_type": "markdown",
   "source": [
    "Problem 2: System of equations solution "
   ],
   "metadata": {}
  },
  {
   "cell_type": "code",
   "execution_count": 10,
   "source": [
    "import numpy as np\r\n",
    "import matplotlib.pyplot as plt\r\n",
    "from line_search_bt import *\r\n",
    "\r\n",
    "x_i=np.array([1,1])\r\n",
    "x_init=x_i\r\n",
    "convergence_criteria=.0001\r\n",
    "alpha=1\r\n",
    "conv=1\r\n",
    "error=1\r\n",
    "err=[]\r\n",
    "itt=[]\r\n",
    "count=1\r\n",
    "\r\n",
    "xstar=[-.143, .786]\r\n",
    "\r\n",
    "def func(x):\r\n",
    "    return 5*x[0]**2+12*x[0]*x[1]-8*x[0]+10*x[1]**2-14*x[1]+5\r\n",
    "\r\n",
    "def gradient(x):\r\n",
    "   return np.array([10*x[0]+12*x[1]-8,12*x[0]+20*x[1]-14])\r\n",
    "\r\n",
    "while conv > convergence_criteria:\r\n",
    "\r\n",
    "    x_k=x_i\r\n",
    "\r\n",
    "    alpha=line_search_bt(x_i,func,gradient,alpha,.5,.5)\r\n",
    "    \r\n",
    "    x_i=x_k-alpha*gradient(x_k)\r\n",
    "\r\n",
    "    error=func(x_k)-func(xstar)\r\n",
    "\r\n",
    "    conv=np.linalg.norm(gradient(x_i))\r\n",
    "    \r\n",
    "    err.append(float(error))\r\n",
    "\r\n",
    "  \r\n",
    "\r\n",
    "x=np.array([-2*x_i[0]-3*x_i[1]+1,x_i[0],x_i[1]])\r\n",
    "\r\n",
    "print(x)\r\n",
    "\r\n",
    "plt.plot(err)\r\n",
    "plt.yscale(\"log\")"
   ],
   "outputs": [
    {
     "output_type": "stream",
     "name": "stdout",
     "text": [
      "[-1.07143646 -0.14282542  0.78569576]\n"
     ]
    },
    {
     "output_type": "display_data",
     "data": {
      "image/png": "[encoded data removed]",
      "text/plain": [
       "<Figure size 432x288 with 1 Axes>"
      ]
     },
     "metadata": {
      "needs_background": "light"
     }
    }
   ],
   "metadata": {}
  },
  {
   "cell_type": "code",
   "execution_count": 9,
   "source": [
    "import numpy as np\r\n",
    "import matplotlib.pyplot as plt\r\n",
    "from line_search_bt import*\r\n",
    "\r\n",
    "x_i=np.array([1,1])\r\n",
    "convergence_criteria=.0001\r\n",
    "conv=1\r\n",
    "alpha=1\r\n",
    "error=1\r\n",
    "err=[]\r\n",
    "itt=[]\r\n",
    "\r\n",
    "xstar=[-.143, .786]\r\n",
    "\r\n",
    "def func(x):\r\n",
    "    return 5*x[0]**2+12*x[0]*x[1]-8*x[0]+10*x[1]**2-14*x[1]+5\r\n",
    "\r\n",
    "def gradient(x):\r\n",
    "   return np.array([10*x[0]+12*x[1]-8,12*x[0]+20*x[1]-14])\r\n",
    "\r\n",
    "Hessian=np.array([[10,12],[12,20]])\r\n",
    "\r\n",
    "while conv > convergence_criteria:\r\n",
    "    x_k=x_i\r\n",
    "    alpha=line_search_bt(x_i,func,gradient,alpha,.5,.5)\r\n",
    "    x_i=x_k-alpha*np.matmul(np.linalg.inv(Hessian),gradient(x_k))\r\n",
    "    error=func(x_k)-func(xstar)\r\n",
    "    err.append(float(error))\r\n",
    "    conv=np.linalg.norm(gradient(x_i))\r\n",
    "    \r\n",
    "\r\n",
    "\r\n",
    "x=np.array([-2*x_i[0]-3*x_i[1]+1,x_i[0],x_i[1]])\r\n",
    "print(x)\r\n",
    "\r\n",
    "plt.plot(err)\r\n",
    "plt.yscale(\"log\")"
   ],
   "outputs": [
    {
     "output_type": "stream",
     "name": "stdout",
     "text": [
      "[-1.07144109 -0.14285226  0.7857152 ]\n"
     ]
    },
    {
     "output_type": "display_data",
     "data": {
      "image/png": "[encoded data removed]",
      "text/plain": [
       "<Figure size 432x288 with 1 Axes>"
      ]
     },
     "metadata": {
      "needs_background": "light"
     }
    }
   ],
   "metadata": {}
  }
 ],
 "metadata": {
  "kernelspec": {
   "name": "python3",
   "display_name": "Python 3.8.8 64-bit ('base': conda)"
  },
  "language_info": {
   "codemirror_mode": {
    "name": "ipython",
    "version": 3
   },
   "file_extension": ".py",
   "mimetype": "text/x-python",
   "name": "python",
   "nbconvert_exporter": "python",
   "pygments_lexer": "ipython3",
   "version": "3.8.8"
  },
  "interpreter": {
   "hash": "648d7d48fcae17006cede8a07b6574169a1e230de14379267f6ccaecb2e08bc1"
  }
 },
 "nbformat": 4,
 "nbformat_minor": 5
}