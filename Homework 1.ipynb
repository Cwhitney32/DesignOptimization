{
 "cells": [
  {
   "cell_type": "markdown",
   "source": [
    "Solve the following problem using [Python SciPy.optimize][]. Please attach your code and\r\n",
    "results. Specify your initial guesses of the solution. If you change\r\n",
    "your initial guess, do you find different solutions? (**100 points**)\r\n",
    "\r\n",
    "$$\r\n",
    "\\begin{aligned}\r\n",
    "&\\text{minimize:} && (x_1-x_2)^2 + (x_2+x_3-2)^2 + (x_4-1)^2+(x_5-1)^2 \\\\\\\\\r\n",
    "&\\text{subject to:} && x_1 + 3x_2 = 0 \\\\\\\\\r\n",
    "&&& x_3 + x_4 - 2x_5 = 0 \\\\\\\\\r\n",
    "&&& x_2 - x_5 = 0 \\\\\\\\\r\n",
    "&&& -10 \\leq x_i \\leq 10, \\sim i=1,\\ldots,5\r\n",
    "\\end{aligned}$$\r\n",
    "\r\n",
    "**Note**:\r\n",
    "\r\n",
    "1.  Please learn how to use **break points** to debug. **I will not\r\n",
    "    address your programming questions if you have not learned how to\r\n",
    "    debug your code.**\r\n",
    "\r\n",
    "2.  I recommend [PyCharm][] as the IDE. If you are new to Python, you can also start with [Google Colab][] without installing anything.\r\n",
    "    \r\n",
    "3.  If you are on Windows, the [Anaconda][] version of Python 3 is highly recommended.\r\n",
    "\r\n",
    "\r\n",
    "**Here are the steps to push a homework submission**:\r\n",
    "\r\n",
    "1.  Clone the [course repo][]: First click on **Code** to get the\r\n",
    " Git address (e.g., the HTTPS address). Then use your IDE to clone (download) the repo using this address. \r\n",
    " [PyCharm tutorial][] on using Git.\r\n",
    "\r\n",
    "2.  You will find the homework in the **Homework** folder.\r\n",
    "\r\n",
    "3.  For analytical problems (e.g., proofs and calculations), please use [Markdown][] to type up your answers. \r\n",
    "[Markdown Math][]. For Latex users, you can convert tex to markdown using [Pandoc][]. \r\n",
    "\r\n",
    "4. For coding problems, please submit a [Jupyter Notebook][] file with your code and final results. \r\n",
    "You can also add a URL to your Jupyter or Colab Notebook in README.md if you use online notebooks.\r\n",
    "\r\n",
    "5. For each homework, please submit a single notebook file (or link) that combines the markdown solutions, \r\n",
    "the codes, and the computation results, and name the file according to the homework.  \r\n",
    "\r\n",
    "6. **IMPORTANT** Please push (upload) the notebook file every time you work on the \r\n",
    "homework and add comments when you push, e.g., \"finished problem 1, still debugging problem 2\". This way I \r\n",
    "know you worked on your own.\r\n",
    " \r\n",
    "\r\n",
    "[Python SciPy.optimize]: https://docs.scipy.org/doc/scipy/reference/tutorial/optimize.html#\r\n",
    "[PyCharm]: https://www.jetbrains.com/pycharm/promo/?utm_source=bing&utm_medium=cpc&utm_campaign=AMER_en_US-PST%2BMST_PyCharm_Branded&utm_term=pycharm&utm_content=pycharm\r\n",
    "[Google Colab]: https://colab.research.google.com\r\n",
    "[Anaconda]: https://anaconda.org/anaconda/python\r\n",
    "[course repo]: https://github.com/DesignInformaticsLab/DesignOptimization2021Fall\r\n",
    "[PyCharm tutorial]: https://www.jetbrains.com/help/pycharm/set-up-a-git-repository.html#clone-repo\r\n",
    "[Pandoc]: https://pandoc.org/try/\r\n",
    "[Jupyter Notebook]: https://jupyter.org/try\r\n",
    "[Markdown]: https://guides.github.com/features/mastering-markdown/\r\n",
    "[Markdown Math]: http://luvxuan.top/posts/Markdown-math/"
   ],
   "metadata": {
    "collapsed": true,
    "pycharm": {
     "name": "#%% md\n"
    }
   }
  },
  {
   "cell_type": "markdown",
   "source": [
    "Please find the following solution to the homework 1:\r\n",
    "\r\n",
    "The solution was prepared in VScode using both .py .ipynb file extensions.\r\n",
    "\r\n",
    "The solution was initially evaulated 4 times using different intial conditions.. These initial conditions were radom guesses only and limited in scope. \r\n",
    "    The solution show now variation to given initial conditions which could idicate a singular minima.\r\n",
    "\r\n",
    "Converting the problem statement to a python compatable linear/array format:\r\n",
    "\r\n",
    "Boundary conditions:\r\n",
    "$$\r\n",
    "\\begin{bmatrix}  \r\n",
    " -10\\\\\r\n",
    " -10\\\\\r\n",
    " -10\\\\\r\n",
    " -10\\\\\r\n",
    " -10\r\n",
    "\\end{bmatrix}\r\n",
    "\\begin{bmatrix}  \r\n",
    " 10\\\\\r\n",
    " 10\\\\\r\n",
    " 10\\\\\r\n",
    " 10\\\\\r\n",
    " 10\r\n",
    "\\end{bmatrix}\r\n",
    "$$\r\n",
    "\r\n",
    "Linear Constraints (as coded):\r\n",
    "$$\r\n",
    "\r\n",
    "\\begin{bmatrix}  \r\n",
    " 0  \\\\\r\n",
    " 0  \\\\\r\n",
    " 0 \r\n",
    "\\end{bmatrix} \r\n",
    "\\leq\r\n",
    "\\begin{bmatrix}  \r\n",
    " 1 & 3 & 0 & 0 & 0 \\\\\r\n",
    " 0 & 0 & 1 & 1 & -2 \\\\\r\n",
    " 0 & 1 & 0 & 0 & -1\r\n",
    "\\end{bmatrix} \r\n",
    "\\begin{bmatrix}  \r\n",
    " x_0\\\\\r\n",
    " x_1\\\\\r\n",
    " x_2\r\n",
    "\\end{bmatrix} \r\n",
    "\\leq\r\n",
    "\r\n",
    "\\begin{bmatrix}  \r\n",
    " 0  \\\\\r\n",
    " 0  \\\\\r\n",
    " 0 \r\n",
    "\\end{bmatrix} \r\n",
    "$$\r\n",
    "Future work:\r\n",
    "\r\n",
    "-Validate solution\r\n",
    "-Intialiate a ramndon generated initial condition array with apprpriate limits and loop n times.   Check for solution variation.\r\n",
    "\r\n",
    "Note:\r\n",
    "-Slight solution variation occurs... why?\r\n",
    "    machine error..(unlikely)\r\n",
    "    what method is being used to evaulate the solution. \r\n",
    "    what is the convergence criteria? (likely) \r\n",
    "\r\n",
    "\r\n",
    "initial guess: (x0)\r\n",
    " x1=1,  x2=2,  x3=3,  x4=4,  x5=5\r\n",
    "\r\n",
    "Solution: (exepect variation occurs at different initial conditions)\r\n",
    " function evaulates: 4.09302325588931\r\n",
    "  x1=-0.76743912,  x2=0.25581304,  x3=0.62791188, x4=-0.1162858 ,  x5=0.25581304])"
   ],
   "metadata": {}
  },
  {
   "cell_type": "code",
   "execution_count": 1,
   "source": [
    "import numpy as np\r\n",
    "from scipy.optimize import minimize\r\n",
    "from scipy.optimize import Bounds\r\n",
    "from scipy.optimize import LinearConstraint\r\n",
    "\r\n",
    "##bounds\r\n",
    "bounds=Bounds([-10,-10,-10,-10,-10],[10,10,10,10,10])\r\n",
    "\r\n",
    "##constraints\r\n",
    "linear_constraint = LinearConstraint([[1,3,0,0,0],[0,0,1,1,-2],[0,1,0,0,-1]],[0,0,0], [0,0,0])\r\n",
    "\r\n",
    "#funtion \r\n",
    "def f(x):\r\n",
    "    return (x[0]-x[1])**2 + (x[1]+x[2]-2)**2 + (x[3]-1)**2+(x[4]-1)**2\r\n",
    "\r\n",
    "#inintial conditions\r\n",
    "x0 = np.array([1, 2, 3, 4, 5])\r\n",
    "\r\n",
    "#minimization \r\n",
    "res = minimize(f, x0,constraints=linear_constraint, bounds=bounds)\r\n",
    "\r\n",
    "#print results \r\n",
    "print(res)"
   ],
   "outputs": [
    {
     "output_type": "stream",
     "name": "stdout",
     "text": [
      "     fun: 4.09302325588931\n",
      "     jac: array([-2.04579037, -0.18800253, -2.2337929 , -2.23186433, -1.48855239])\n",
      " message: 'Optimization terminated successfully'\n",
      "    nfev: 44\n",
      "     nit: 7\n",
      "    njev: 7\n",
      "  status: 0\n",
      " success: True\n",
      "       x: array([-0.76743912,  0.25581304,  0.62791188, -0.1162858 ,  0.25581304])\n"
     ]
    }
   ],
   "metadata": {}
  },
  {
   "cell_type": "code",
   "execution_count": 2,
   "source": [
    "import numpy as np\r\n",
    "from scipy.optimize import minimize\r\n",
    "from scipy.optimize import Bounds\r\n",
    "from scipy.optimize import LinearConstraint\r\n",
    "\r\n",
    "##bounds\r\n",
    "bounds=Bounds([-10,-10,-10,-10,-10],[10,10,10,10,10])\r\n",
    "\r\n",
    "##constraints\r\n",
    "linear_constraint = LinearConstraint([[1,3,0,0,0],[0,0,1,1,-2],[0,1,0,0,-1]],[0,0,0], [0,0,0])\r\n",
    "\r\n",
    "#funtion \r\n",
    "def f(x):\r\n",
    "    return (x[0]-x[1])**2 + (x[1]+x[2]-2)**2 + (x[3]-1)**2+(x[4]-1)**2\r\n",
    "\r\n",
    "#inintial conditions\r\n",
    "x0 = np.array([.1, -20, 3, 4000, 50])\r\n",
    "\r\n",
    "#minimization \r\n",
    "res = minimize(f, x0,constraints=linear_constraint, bounds=bounds)\r\n",
    "\r\n",
    "#print results \r\n",
    "print(res)"
   ],
   "outputs": [
    {
     "output_type": "stream",
     "name": "stdout",
     "text": [
      "     fun: 4.0930232558139545\n",
      "     jac: array([-2.04651159, -0.18604648, -2.23255813, -2.23255819, -1.48837209])\n",
      " message: 'Optimization terminated successfully'\n",
      "    nfev: 37\n",
      "     nit: 6\n",
      "    njev: 6\n",
      "  status: 0\n",
      " success: True\n",
      "       x: array([-0.76744186,  0.25581395,  0.62790698, -0.11627907,  0.25581395])\n"
     ]
    }
   ],
   "metadata": {}
  },
  {
   "cell_type": "code",
   "execution_count": 3,
   "source": [
    "import numpy as np\r\n",
    "from scipy.optimize import minimize\r\n",
    "from scipy.optimize import Bounds\r\n",
    "from scipy.optimize import LinearConstraint\r\n",
    "\r\n",
    "##bounds\r\n",
    "bounds=Bounds([-10,-10,-10,-10,-10],[10,10,10,10,10])\r\n",
    "\r\n",
    "##constraints\r\n",
    "linear_constraint = LinearConstraint([[1,3,0,0,0],[0,0,1,1,-2],[0,1,0,0,-1]],[0,0,0], [0,0,0])\r\n",
    "\r\n",
    "#funtion \r\n",
    "def f(x):\r\n",
    "    return (x[0]-x[1])**2 + (x[1]+x[2]-2)**2 + (x[3]-1)**2+(x[4]-1)**2\r\n",
    "\r\n",
    "#inintial conditions\r\n",
    "x0 = np.array([30, 2, 45, 4, 5])\r\n",
    "\r\n",
    "#minimization \r\n",
    "res = minimize(f, x0,constraints=linear_constraint, bounds=bounds)\r\n",
    "\r\n",
    "#print results \r\n",
    "print(res)"
   ],
   "outputs": [
    {
     "output_type": "stream",
     "name": "stdout",
     "text": [
      "     fun: 4.093023256058407\n",
      "     jac: array([-2.0474968 , -0.1854443 , -2.23294109, -2.23143637, -1.4881258 ])\n",
      " message: 'Optimization terminated successfully'\n",
      "    nfev: 49\n",
      "     nit: 8\n",
      "    njev: 8\n",
      "  status: 0\n",
      " success: True\n",
      "       x: array([-0.76744162,  0.25581387,  0.62791799, -0.11629024,  0.25581387])\n"
     ]
    }
   ],
   "metadata": {}
  },
  {
   "cell_type": "code",
   "execution_count": 4,
   "source": [
    "import numpy as np\r\n",
    "from scipy.optimize import minimize\r\n",
    "from scipy.optimize import Bounds\r\n",
    "from scipy.optimize import LinearConstraint\r\n",
    "\r\n",
    "##bounds\r\n",
    "bounds=Bounds([-10,-10,-10,-10,-10],[10,10,10,10,10])\r\n",
    "\r\n",
    "##constraints\r\n",
    "linear_constraint = LinearConstraint([[1,3,0,0,0],[0,0,1,1,-2],[0,1,0,0,-1]],[0,0,0], [0,0,0])\r\n",
    "\r\n",
    "#funtion \r\n",
    "def f(x):\r\n",
    "    return (x[0]-x[1])**2 + (x[1]+x[2]-2)**2 + (x[3]-1)**2+(x[4]-1)**2\r\n",
    "\r\n",
    "#inintial conditions\r\n",
    "x0 = np.array([-100, -20, -3, -4000, -50])\r\n",
    "\r\n",
    "#minimization \r\n",
    "res = minimize(f, x0,constraints=linear_constraint, bounds=bounds)\r\n",
    "\r\n",
    "#print results \r\n",
    "print(res)"
   ],
   "outputs": [
    {
     "output_type": "stream",
     "name": "stdout",
     "text": [
      "     fun: 4.093023353279568\n",
      "     jac: array([-2.04638898, -0.18578506, -2.23217416, -2.23303401, -1.48840266])\n",
      " message: 'Optimization terminated successfully'\n",
      "    nfev: 42\n",
      "     nit: 7\n",
      "    njev: 7\n",
      "  status: 0\n",
      " success: True\n",
      "       x: array([-0.7673959 ,  0.25579863,  0.62811428, -0.11651701,  0.25579863])\n"
     ]
    }
   ],
   "metadata": {}
  }
 ],
 "metadata": {
  "kernelspec": {
   "name": "python3",
   "display_name": "Python 3.8.8 64-bit ('base': conda)"
  },
  "language_info": {
   "codemirror_mode": {
    "name": "ipython",
    "version": 3
   },
   "file_extension": ".py",
   "mimetype": "text/x-python",
   "name": "python",
   "nbconvert_exporter": "python",
   "pygments_lexer": "ipython3",
   "version": "3.8.8"
  },
  "pycharm": {
   "stem_cell": {
    "cell_type": "raw",
    "source": [],
    "metadata": {
     "collapsed": false
    }
   }
  },
  "interpreter": {
   "hash": "648d7d48fcae17006cede8a07b6574169a1e230de14379267f6ccaecb2e08bc1"
  }
 },
 "nbformat": 4,
 "nbformat_minor": 1
}