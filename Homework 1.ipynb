{
 "cells": [
  {
   "cell_type": "markdown",
   "source": [
    "Solve the following problem using [Python SciPy.optimize][]. Please attach your code and\r\n",
    "results. Specify your initial guesses of the solution. If you change\r\n",
    "your initial guess, do you find different solutions? (**100 points**)\r\n",
    "\r\n",
    "$$\r\n",
    "\\begin{aligned}\r\n",
    "&\\text{minimize:} && (x_1-x_2)^2 + (x_2+x_3-2)^2 + (x_4-1)^2+(x_5-1)^2 \\\\\\\\\r\n",
    "&\\text{subject to:} && x_1 + 3x_2 = 0 \\\\\\\\\r\n",
    "&&& x_3 + x_4 - 2x_5 = 0 \\\\\\\\\r\n",
    "&&& x_2 - x_5 = 0 \\\\\\\\\r\n",
    "&&& -10 \\leq x_i \\leq 10, \\~i=1,\\ldots,5\r\n",
    "\\end{aligned}$$\r\n",
    "\r\n",
    "**Note**:\r\n",
    "\r\n",
    "1.  Please learn how to use **break points** to debug. **I will not\r\n",
    "    address your programming questions if you have not learned how to\r\n",
    "    debug your code.**\r\n",
    "\r\n",
    "2.  I recommend [PyCharm][] as the IDE. If you are new to Python, you can also start with [Google Colab][] without installing anything.\r\n",
    "    \r\n",
    "3.  If you are on Windows, the [Anaconda][] version of Python 3 is highly recommended.\r\n",
    "\r\n",
    "\r\n",
    "**Here are the steps to push a homework submission**:\r\n",
    "\r\n",
    "1.  Clone the [course repo][]: First click on **Code** to get the\r\n",
    " Git address (e.g., the HTTPS address). Then use your IDE to clone (download) the repo using this address. \r\n",
    " [PyCharm tutorial][] on using Git.\r\n",
    "\r\n",
    "2.  You will find the homework in the **Homework** folder.\r\n",
    "\r\n",
    "3.  For analytical problems (e.g., proofs and calculations), please use [Markdown][] to type up your answers. \r\n",
    "[Markdown Math][]. For Latex users, you can convert tex to markdown using [Pandoc][]. \r\n",
    "\r\n",
    "4. For coding problems, please submit a [Jupyter Notebook][] file with your code and final results. \r\n",
    "You can also add a URL to your Jupyter or Colab Notebook in README.md if you use online notebooks.\r\n",
    "\r\n",
    "5. For each homework, please submit a single notebook file (or link) that combines the markdown solutions, \r\n",
    "the codes, and the computation results, and name the file according to the homework.  \r\n",
    "\r\n",
    "6. **IMPORTANT** Please push (upload) the notebook file every time you work on the \r\n",
    "homework and add comments when you push, e.g., \"finished problem 1, still debugging problem 2\". This way I \r\n",
    "know you worked on your own.\r\n",
    " \r\n",
    "\r\n",
    "[Python SciPy.optimize]: https://docs.scipy.org/doc/scipy/reference/tutorial/optimize.html#\r\n",
    "[PyCharm]: https://www.jetbrains.com/pycharm/promo/?utm_source=bing&utm_medium=cpc&utm_campaign=AMER_en_US-PST%2BMST_PyCharm_Branded&utm_term=pycharm&utm_content=pycharm\r\n",
    "[Google Colab]: https://colab.research.google.com\r\n",
    "[Anaconda]: https://anaconda.org/anaconda/python\r\n",
    "[course repo]: https://github.com/DesignInformaticsLab/DesignOptimization2021Fall\r\n",
    "[PyCharm tutorial]: https://www.jetbrains.com/help/pycharm/set-up-a-git-repository.html#clone-repo\r\n",
    "[Pandoc]: https://pandoc.org/try/\r\n",
    "[Jupyter Notebook]: https://jupyter.org/try\r\n",
    "[Markdown]: https://guides.github.com/features/mastering-markdown/\r\n",
    "[Markdown Math]: http://luvxuan.top/posts/Markdown-math/"
   ],
   "metadata": {
    "collapsed": true,
    "pycharm": {
     "name": "#%% md\n"
    }
   }
  },
  {
   "cell_type": "code",
   "execution_count": 7,
   "source": [
    "import numpy as np\r\n",
    "from scipy.optimize import minimize\r\n",
    "from scipy.optimize import Bounds\r\n",
    "from scipy.optimize import LinearConstraint\r\n",
    "\r\n",
    "##bounds=Bounds([-10,10],[-10,10],[-10,10],[-10,10],[-10,10])\r\n",
    "bounds=Bounds([-10,-10,-10,-10,-10],[10,10,10,10,10])\r\n",
    "\r\n",
    "linear_constraint = LinearConstraint([[1,3,0,0,0],[0,0,1,1,-2],[0,1,0,0,-1]],[1,1,1], [1,1,1])\r\n",
    "\r\n",
    "def f(x):\r\n",
    "    return (x[0]-x[1]**2 + (x[1]+x[2]-2)**2 + (x[3]-1)**2+(x[4]-1)**2)\r\n",
    "\r\n",
    "x0 = np.array([1, 2, 3, 4, 5])\r\n",
    "\r\n",
    "res = minimize(f, x0,constraints=linear_constraint, bounds=bounds)\r\n",
    "\r\n",
    "print(res)"
   ],
   "outputs": [
    {
     "output_type": "stream",
     "name": "stdout",
     "text": [
      "     fun: -7.055555552310394\n",
      "     jac: array([ 1.        , -1.88880622,  2.33344424,  2.33330721,  0.22225046])\n",
      " message: 'Optimization terminated successfully'\n",
      "    nfev: 30\n",
      "     nit: 5\n",
      "    njev: 5\n",
      "  status: 0\n",
      " success: True\n",
      "       x: array([-5.33337568,  2.11112523,  1.05559688,  2.16665357,  1.11112523])\n"
     ]
    }
   ],
   "metadata": {}
  },
  {
   "cell_type": "code",
   "execution_count": 8,
   "source": [
    "import numpy as np\r\n",
    "from scipy.optimize import minimize\r\n",
    "from scipy.optimize import Bounds\r\n",
    "from scipy.optimize import LinearConstraint\r\n",
    "\r\n",
    "##bounds=Bounds([-10,10],[-10,10],[-10,10],[-10,10],[-10,10])\r\n",
    "bounds=Bounds([-10,-10,-10,-10,-10],[10,10,10,10,10])\r\n",
    "\r\n",
    "linear_constraint = LinearConstraint([[1,3,0,0,0],[0,0,1,1,-2],[0,1,0,0,-1]],[1,1,1], [1,1,1])\r\n",
    "\r\n",
    "def f(x):\r\n",
    "    return (x[0]-x[1]**2 + (x[1]+x[2]-2)**2 + (x[3]-1)**2+(x[4]-1)**2)\r\n",
    "\r\n",
    "x0 = np.array([5,5,6,8,4])\r\n",
    "\r\n",
    "res = minimize(f, x0,constraints=linear_constraint, bounds=bounds)\r\n",
    "\r\n",
    "print(res)"
   ],
   "outputs": [
    {
     "output_type": "stream",
     "name": "stdout",
     "text": [
      "     fun: -7.055555488801998\n",
      "     jac: array([ 1.        , -1.88925993,  2.33282638,  2.33343279,  0.22208637])\n",
      " message: 'Optimization terminated successfully'\n",
      "    nfev: 30\n",
      "     nit: 5\n",
      "    njev: 5\n",
      "  status: 0\n",
      " success: True\n",
      "       x: array([-5.33312954,  2.11104318,  1.05536995,  2.16671641,  1.11104318])\n"
     ]
    }
   ],
   "metadata": {}
  },
  {
   "cell_type": "code",
   "execution_count": 9,
   "source": [
    "import numpy as np\r\n",
    "from scipy.optimize import minimize\r\n",
    "from scipy.optimize import Bounds\r\n",
    "from scipy.optimize import LinearConstraint\r\n",
    "\r\n",
    "##bounds=Bounds([-10,10],[-10,10],[-10,10],[-10,10],[-10,10])\r\n",
    "bounds=Bounds([-10,-10,-10,-10,-10],[10,10,10,10,10])\r\n",
    "\r\n",
    "linear_constraint = LinearConstraint([[1,3,0,0,0],[0,0,1,1,-2],[0,1,0,0,-1]],[1,1,1], [1,1,1])\r\n",
    "\r\n",
    "def f(x):\r\n",
    "    return (x[0]-x[1]**2 + (x[1]+x[2]-2)**2 + (x[3]-1)**2+(x[4]-1)**2)\r\n",
    "\r\n",
    "x0 = np.array([-4,-2,-3,5,-5])\r\n",
    "\r\n",
    "res = minimize(f, x0,constraints=linear_constraint, bounds=bounds)\r\n",
    "\r\n",
    "print(res)"
   ],
   "outputs": [
    {
     "output_type": "stream",
     "name": "stdout",
     "text": [
      "     fun: -7.055555450503056\n",
      "     jac: array([ 1.        , -1.88937092,  2.33277559,  2.3336637 ,  0.22214645])\n",
      " message: 'Optimization terminated successfully'\n",
      "    nfev: 37\n",
      "     nit: 6\n",
      "    njev: 6\n",
      "  status: 0\n",
      " success: True\n",
      "       x: array([-5.33321961,  2.1110732 ,  1.05531458,  2.16683183,  1.1110732 ])\n"
     ]
    }
   ],
   "metadata": {}
  }
 ],
 "metadata": {
  "kernelspec": {
   "name": "python3",
   "display_name": "Python 3.8.8 64-bit ('base': conda)"
  },
  "language_info": {
   "codemirror_mode": {
    "name": "ipython",
    "version": 3
   },
   "file_extension": ".py",
   "mimetype": "text/x-python",
   "name": "python",
   "nbconvert_exporter": "python",
   "pygments_lexer": "ipython3",
   "version": "3.8.8"
  },
  "pycharm": {
   "stem_cell": {
    "cell_type": "raw",
    "source": [],
    "metadata": {
     "collapsed": false
    }
   }
  },
  "interpreter": {
   "hash": "648d7d48fcae17006cede8a07b6574169a1e230de14379267f6ccaecb2e08bc1"
  }
 },
 "nbformat": 4,
 "nbformat_minor": 1
}