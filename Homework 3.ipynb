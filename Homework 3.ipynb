{
 "cells": [
  {
   "cell_type": "markdown",
   "source": [
    "### Problem 1 (50 points) \r\n",
    "\r\n",
    "Vapor-liquid equilibria data are correlated using two adjustable parameters $A_{12}$ and $A_{21}$ per binary\r\n",
    "mixture. For low pressures, the equilibrium relation can be formulated as:\r\n",
    "\r\n",
    "$$\r\n",
    "\\begin{aligned}\r\n",
    "p = & x_1\\exp\\left(A_{12}\\left(\\frac{A_{21}x_2}{A_{12}x_1+A_{21}x_2}\\right)^2\\right)p_{water}^{sat}\\\\\r\n",
    "& + x_2\\exp\\left(A_{21}\\left(\\frac{A_{12}x_1}{A_{12}x_1+A_{21}x_2}\\right)^2\\right)p_{1,4 dioxane}^{sat}.\r\n",
    "\\end{aligned}\r\n",
    "$$\r\n",
    "\r\n",
    "Here the saturation pressures are given by the Antoine equation\r\n",
    "\r\n",
    "$$\r\n",
    "\\log_{10}(p^{sat}) = a_1 - \\frac{a_2}{T + a_3},\r\n",
    "$$\r\n",
    "\r\n",
    "where $T = 20$($^{\\circ}{\\rm C}$) and $a_{1,2,3}$ for a water - 1,4 dioxane\r\n",
    "system is given below.\r\n",
    "\r\n",
    "|             | $a_1$     | $a_2$      | $a_3$     |\r\n",
    "|:------------|:--------|:---------|:--------|\r\n",
    "| Water       | 8.07131 | 1730.63  | 233.426 |\r\n",
    "| 1,4 dioxane | 7.43155 | 1554.679 | 240.337 |\r\n",
    "\r\n",
    "\r\n",
    "The following table lists the measured data. Recall that in a binary system $x_1 + x_2 = 1$.\r\n",
    "\r\n",
    "|$x_1$ | 0.0 | 0.1 | 0.2 | 0.3 | 0.4 | 0.5 | 0.6 | 0.7 | 0.8 | 0.9 | 1.0 |\r\n",
    "|:-----|:--------|:---------|:--------|:-----|:-----|:-----|:-----|:-----|:-----|:-----|:-----|\r\n",
    "|$p$| 28.1 | 34.4 | 36.7 | 36.9 | 36.8 | 36.7 | 36.5 | 35.4 | 32.9 | 27.7 | 17.5 |\r\n",
    "\r\n",
    "Estimate $A_{12}$ and $A_{21}$ using data from the above table: \r\n",
    "\r\n",
    "1. Formulate the least square problem; \r\n",
    "2. Since the model is nonlinear, the problem does not have an analytical solution. Therefore, solve it using the gradient descent or Newton's method implemented in HW1; \r\n",
    "3. Compare your optimized model with the data. Does your model fit well with the data?\r\n",
    "\r\n"
   ],
   "metadata": {}
  },
  {
   "cell_type": "code",
   "execution_count": 2,
   "source": [
    "import torch as t \r\n",
    "import numpy as np\r\n",
    "\r\n",
    "water=np.array([8.07131,1730.63,233.426])\r\n",
    "dioxane=np.array([7.43155,1554.679,240.337])\r\n",
    "\r\n",
    "x=np.array([0.0,0.1,0.2,0.3,0.4,0.5,0.6,0.7,0.8,0.9,1.0])\r\n",
    "p=np.array([28.1,34.4,36.7,36.9,36.8,36.7,36.5,35.4,32.9,27.7,17.5])\r\n",
    "print(water)"
   ],
   "outputs": [
    {
     "output_type": "stream",
     "name": "stdout",
     "text": [
      "[   8.07131 1730.63     233.426  ]\n"
     ]
    }
   ],
   "metadata": {}
  },
  {
   "cell_type": "markdown",
   "source": [
    "### Problem 2 (50 points) \r\n",
    "\r\n",
    "Solve the following problem using Bayesian Optimization:\r\n",
    "$$\r\n",
    "    \\min_{x_1, x_2} \\quad \\left(4-2.1x_1^2 + \\frac{x_1^4}{3}\\right)x_1^2 + x_1x_2 + \\left(-4 + 4x_2^2\\right)x_2^2,\r\n",
    "$$\r\n",
    "for $x_1 \\in [-3,3]$ and $x_2 \\in [-2,2]$. A tutorial on Bayesian Optimization can be found [here](https://thuijskens.github.io/2016/12/29/bayesian-optimisation/).\r\n",
    "\r\n"
   ],
   "metadata": {}
  }
 ],
 "metadata": {
  "kernelspec": {
   "name": "python3",
   "display_name": "Python 3.8.8 64-bit ('base': conda)"
  },
  "language_info": {
   "codemirror_mode": {
    "name": "ipython",
    "version": 3
   },
   "file_extension": ".py",
   "mimetype": "text/x-python",
   "name": "python",
   "nbconvert_exporter": "python",
   "pygments_lexer": "ipython3",
   "version": "3.8.8"
  },
  "interpreter": {
   "hash": "648d7d48fcae17006cede8a07b6574169a1e230de14379267f6ccaecb2e08bc1"
  }
 },
 "nbformat": 4,
 "nbformat_minor": 5
}