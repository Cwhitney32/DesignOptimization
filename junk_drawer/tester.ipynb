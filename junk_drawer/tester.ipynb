{
 "cells": [
  {
   "cell_type": "code",
   "execution_count": 3,
   "metadata": {},
   "outputs": [
    {
     "name": "stdout",
     "output_type": "stream",
     "text": [
      "[nan nan]\n",
      "nan\n",
      "A_12= nan\n",
      "A_21= nan\n",
      "loss= nan\n",
      "Checking model vs. experimental data (experimental p, modeled p, difference\n",
      "p experimental= 28.1 & p model= nan difference nan\n",
      "p experimental= 34.4 & p model= nan difference nan\n",
      "p experimental= 36.7 & p model= nan difference nan\n",
      "p experimental= 36.9 & p model= nan difference nan\n",
      "p experimental= 36.8 & p model= nan difference nan\n",
      "p experimental= 36.7 & p model= nan difference nan\n",
      "p experimental= 36.5 & p model= nan difference nan\n",
      "p experimental= 35.4 & p model= nan difference nan\n",
      "p experimental= 32.9 & p model= nan difference nan\n",
      "p experimental= 27.7 & p model= nan difference nan\n",
      "p experimental= 17.5 & p model= nan difference nan\n"
     ]
    },
    {
     "data": {
      "text/plain": [
       "Text(0.5, 1.0, 'Vapor-Liquid Equilibria - Experimental Vs. OLS Model Fit ')"
      ]
     },
     "execution_count": 3,
     "metadata": {},
     "output_type": "execute_result"
    },
    {
     "data": {
      "image/png": "[encoded data removed]",
      "text/plain": [
       "<Figure size 432x288 with 1 Axes>"
      ]
     },
     "metadata": {
      "needs_background": "light"
     },
     "output_type": "display_data"
    }
   ],
   "source": [
    "import numpy as np\n",
    "import math as m\n",
    "import torch as t\n",
    "from torch.autograd import Variable\n",
    "from line_search_bt import *\n",
    "import matplotlib.pyplot as plt\n",
    "\n",
    "\n",
    "a_water=np.array([8.07131,1730.63,233.426])\n",
    "a_dioxane=np.array([7.43155,1554.679,240.337])\n",
    "\n",
    "\n",
    "def p_specific(a,T):\n",
    "   return 10**(a[0]-((a[1])/(T+a[2])))\n",
    "\n",
    "x1=np.array([0.0,0.1,0.2,0.3,0.4,0.5,0.6,0.7,0.8,0.9,1.0])\n",
    "x2=1-x1\n",
    "\n",
    "p=np.array([28.1,34.4,36.7,36.9,36.8,36.7,36.5,35.4,32.9,27.7,17.5])\n",
    "\n",
    "def func(x):\n",
    "   for i in range(0,len(x1)):\n",
    "       func=+(((x1[i]*pwater*t.exp(x[0]*((x[1]*x2[i])/(x[0]*x1[i]+x[1]*x2[i]))**2)) + (x2[i]*pdioxane*t.exp( z[1]*((z[0]*x1[i])/(z[0]*x1[i]+z[1]*x2[i]))**2))) - p[i])**2\n",
    "   return func\n",
    "\n",
    "T=20\n",
    "\n",
    "\n",
    "\n",
    "pwater=((p_specific(a_water,T)))\n",
    "pdioxane=((p_specific(a_dioxane,T)))\n",
    "\n",
    "x = Variable(t.tensor([1.0, 1.0]), requires_grad=True)\n",
    "\n",
    "# step size \n",
    "a = 1\n",
    "#create a check variable\n",
    "pcheck_str=[]\n",
    "\n",
    "# gradient descent\n",
    "for i in range(100): \n",
    "    for i in range(0,len(x1)):\n",
    "        \n",
    "        loss = (((x1[i]*pwater*t.exp(x[0]*((x[1]*x2[i])/(x[0]*x1[i]+x[1]*x2[i]))**2)) + (x2[i]*pdioxane*t.exp( x[1]*((x[0]*x1[i])/(x[0]*x1[i]+x[1]*x2[i]))**2))) - p[i])**2\n",
    "    \n",
    "        loss.backward()\n",
    "\n",
    "    x.grad.numpy()\n",
    "    \n",
    "    with t.no_grad():\n",
    "        l=x.data\n",
    "        grad=x.grad\n",
    "        direction=-1*x.grad\n",
    "   \n",
    "        a=line_search_bt(l,func,grad,a,.5,.5,direction)\n",
    "        x -= a * x.grad\n",
    "        \n",
    "        # clear gradient\n",
    "        x.grad.zero_()\n",
    "\n",
    "sol=x.data.numpy()\n",
    "print(x.data.numpy())\n",
    "print(loss.data.numpy())\n",
    "\n",
    "print('A_12=',sol[0])\n",
    "print('A_21=',sol[1])\n",
    "print('loss=',loss.data.numpy())\n",
    "\n",
    "\n",
    "print('Checking model vs. experimental data (experimental p, modeled p, difference')\n",
    "for i in range(0,len(p)):\n",
    "   pcheck = ((x1[i]*pwater*m.exp(x[0]*((x[1]*x2[i])/(x[0]*x1[i]+x[1]*x2[i]))**2)) + (x2[i]*pdioxane*m.exp( x[1]*((x[0]*x1[i])/(x[0]*x1[i]+x[1]*x2[i]))**2)))\n",
    "   pcheck_str.append(pcheck)\n",
    "   print(\"p experimental=\",p[i], \"&\", \"p model=\",pcheck, \"difference\" , p[i]-pcheck)\n",
    "\n",
    "\n",
    "\n",
    "plt.plot(x1,pcheck_str,x1,p,'ro')\n",
    "plt.xlabel('x')\n",
    "plt.ylabel('p')\n",
    "plt.title('Vapor-Liquid Equilibria - Experimental Vs. OLS Model Fit ')\n"
   ]
  }
 ],
 "metadata": {
  "interpreter": {
   "hash": "648d7d48fcae17006cede8a07b6574169a1e230de14379267f6ccaecb2e08bc1"
  },
  "kernelspec": {
   "display_name": "Python 3.8.8 64-bit ('base': conda)",
   "name": "python3"
  },
  "language_info": {
   "codemirror_mode": {
    "name": "ipython",
    "version": 3
   },
   "file_extension": ".py",
   "mimetype": "text/x-python",
   "name": "python",
   "nbconvert_exporter": "python",
   "pygments_lexer": "ipython3",
   "version": "3.8.8"
  },
  "orig_nbformat": 4
 },
 "nbformat": 4,
 "nbformat_minor": 2
}
